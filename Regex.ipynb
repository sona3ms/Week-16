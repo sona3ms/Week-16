{
  "nbformat": 4,
  "nbformat_minor": 0,
  "metadata": {
    "colab": {
      "provenance": []
    },
    "kernelspec": {
      "name": "python3",
      "display_name": "Python 3"
    },
    "language_info": {
      "name": "python"
    }
  },
  "cells": [
    {
      "cell_type": "code",
      "execution_count": null,
      "metadata": {
        "id": "0UF-BDPlvfCx"
      },
      "outputs": [],
      "source": [
        "import re"
      ]
    },
    {
      "cell_type": "code",
      "source": [
        "c1 = 'you asked lot of questions , 1234567910, abc@xyz.com with order id # 412567'\n",
        "c2 = 'sure, my number is (123)-567-8910 , email is  xyz@ab1c.com, order number is 412789'"
      ],
      "metadata": {
        "id": "rBV0Sy1zvkRC"
      },
      "execution_count": null,
      "outputs": []
    },
    {
      "cell_type": "code",
      "source": [
        "pa = '[a-zA-Z0-9_]*@[a-zA-Z0-9]*\\.[a-zA-Z0-9]{2,5}'\n",
        "p = re.findall(pa,c1)\n",
        "p"
      ],
      "metadata": {
        "colab": {
          "base_uri": "https://localhost:8080/"
        },
        "id": "MYIiKDIIrT31",
        "outputId": "8d135114-f6e1-449c-99b9-7836128e368c"
      },
      "execution_count": null,
      "outputs": [
        {
          "output_type": "execute_result",
          "data": {
            "text/plain": [
              "['abc@xyz.com']"
            ]
          },
          "metadata": {},
          "execution_count": 4
        }
      ]
    },
    {
      "cell_type": "code",
      "source": [
        "pattern = r'\\d{10}|\\(\\d{3}\\)-\\d{3}-\\d{4}'\n",
        "matches1 = re.findall(pattern,c2)\n",
        "matches2 = re.findall(pattern,c1)\n",
        "print(matches1, matches2)"
      ],
      "metadata": {
        "colab": {
          "base_uri": "https://localhost:8080/"
        },
        "id": "kQeOHLV1yWI3",
        "outputId": "1116a8e5-729f-4ef6-b98a-0d3e1dce2783"
      },
      "execution_count": null,
      "outputs": [
        {
          "output_type": "stream",
          "name": "stdout",
          "text": [
            "['(123)-567-8910'] ['1234567910']\n"
          ]
        }
      ]
    },
    {
      "cell_type": "code",
      "source": [
        "pattern = '[a-z0-9A-Z_]*@[a-z0-9A-Z]*\\.[a-z0-9A-Z]*'\n",
        "matches1 = re.findall(pattern,c2)\n",
        "matches2 = re.findall(pattern,c1)\n",
        "print(matches1, matches2)"
      ],
      "metadata": {
        "colab": {
          "base_uri": "https://localhost:8080/"
        },
        "id": "QsjA2BFi1qTi",
        "outputId": "a48dca4d-0401-420f-d06d-5d9808ad379a"
      },
      "execution_count": null,
      "outputs": [
        {
          "output_type": "stream",
          "name": "stdout",
          "text": [
            "['xyz@ab1c.com'] ['abc@xyz.com']\n"
          ]
        }
      ]
    },
    {
      "cell_type": "code",
      "source": [
        "pattern = r'order(?:\\s*id)?\\s*#?\\s*(\\d+)'\n",
        " #order[\\^d]*(\\d*)\n",
        "matches1 = re.findall(pattern,c2)\n",
        "matches2 = re.findall(pattern,c1)\n",
        "print(matches1, matches2)"
      ],
      "metadata": {
        "colab": {
          "base_uri": "https://localhost:8080/"
        },
        "id": "NBT1RbnIzK1a",
        "outputId": "6a531d05-fe17-4d9a-8df1-85f396e039c9"
      },
      "execution_count": null,
      "outputs": [
        {
          "output_type": "stream",
          "name": "stdout",
          "text": [
            "[] ['412567']\n"
          ]
        }
      ]
    },
    {
      "cell_type": "code",
      "source": [],
      "metadata": {
        "id": "WGFJzHf4Em5L"
      },
      "execution_count": null,
      "outputs": []
    }
  ]
}